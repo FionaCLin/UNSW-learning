{
 "cells": [
  {
   "cell_type": "markdown",
   "metadata": {},
   "source": [
    "# COMP9318 Lab2"
   ]
  },
  {
   "cell_type": "markdown",
   "metadata": {
    "collapsed": true
   },
   "source": [
    "## Instructions\n",
    "1. This note book contains instructions for **COMP9318-Lab2**.\n",
    "\n",
    "* You are required to complete your implementation in a file `submission.py` provided along with this notebook.\n",
    "\n",
    "* You are not allowed to print out unnecessary stuff. We will not consider any output printed out on the screen. All results should be returned in appropriate data structures return by corresponding functions.\n",
    "\n",
    "* You need to submit the code for **lab2** via following link: https://kg.cse.unsw.edu.au/submit/\n",
    "\n",
    "* For each question, we have provided you with detailed instructions along with question headings. In case of any problem, you can post your query @ Piazza.\n",
    "\n",
    "* If you choose to skip a question, leave the corresponding function body as it is (i.e., keep the `pass` line), otherwise it may affect your mark for other questions.\n",
    "\n",
    "* You are allowed to add other functions and/or import additional modules (you may have to in this lab), but you are not allowed to define global variables. **Only functions are allowed** in `submission.py`. \n",
    "\n",
    "* You should not import unnecessary modules/libraries, failing to import such modules at test time will lead to errors.\n",
    "\n",
    "* We will provide immediate feedback on your submission. You can access your scores using the online submission portal on the same day. \n",
    "\n",
    "* For **Final Evaluation** we will be using a different dataset, so your final scores may vary.  \n",
    "\n",
    "* You are allowed to submit as many times as you want before the deadline, but **ONLY the latest version will be kept and marked**.\n",
    "\n",
    "* Submission deadline for this assignment is **23:59:59 on 21st March, 2019**. We will **not** accept any late submissions."
   ]
  },
  {
   "cell_type": "markdown",
   "metadata": {},
   "source": [
    "# Question 1: Optimal binning algorithm using dynamic programming (100 points)"
   ]
  },
  {
   "cell_type": "code",
   "execution_count": 1,
   "metadata": {},
   "outputs": [],
   "source": [
    "# These are the only modules that you can use in lab2\n",
    "import pandas as pd\n",
    "import math\n",
    "import numpy as np"
   ]
  },
  {
   "cell_type": "markdown",
   "metadata": {},
   "source": [
    "In this lab, you need to implement the optimal binning algorithm using the dynamic programming algorithm we discussed in the lecture. You are only allowed to use $O(n^2)$ space. \n",
    "\n",
    "## Input\n",
    "\n",
    "The input contains data (in a list) and the number of bins (an integer).\n",
    "\n",
    "## Output\n",
    "\n",
    "You are required to output the binning result and the matrix computed by the algorithm.\n",
    "\n",
    "The matrix entries record optimal binning cost for a suffix of the input array using a certain number of bins. You should assign -1 to all the invalid solutions."
   ]
  },
  {
   "cell_type": "code",
   "execution_count": 2,
   "metadata": {},
   "outputs": [],
   "source": [
    "x = [3, 1, 18, 11, 13, 17]\n",
    "# x = [7,9,13,5]\n",
    "num_bins = 4"
   ]
  },
  {
   "cell_type": "markdown",
   "metadata": {},
   "source": [
    "Bins = [[3, 1], [18], [11, 13], [17]]\n",
    "Matrix =\n",
    "[-1, -1, -1, 18.666666666666664, 8.0, 0]\n",
    "[-1, -1, 18.666666666666664, 2.0, 0, -1]\n",
    "[-1, 18.666666666666664, 2.0, 0, -1, -1]\n",
    "[4.0, 2.0, 0, -1, -1, -1]"
   ]
  },
  {
   "cell_type": "code",
   "execution_count": 3,
   "metadata": {},
   "outputs": [],
   "source": [
    "def v_opt_dp(x, b):# do not change the heading of the function\n",
    "    matrix = [x[:] for x in [[-1] * len(x)] * b]  \n",
    "    path = [x[:] for x in [[-1] * len(x)] * (b)] \n",
    "    bins = []\n",
    "    minSSE = np.NAN               \n",
    "    for i in range(1,b+1):\n",
    "        for j in range(len(x)-1,b-i-1,-1):\n",
    "            minIndex = -1\n",
    "            if i <= len(x[j:]): ## filter out the invalid cells\n",
    "                s=x[j:] ## get S_j to calculate sse + opt(s_j+1, i-1)<- bin = i-1\n",
    "                sse = np.sum(np.array([(i-np.mean(np.array(s)))**2 for i in s]))\n",
    "                if i == 1:\n",
    "                #level 1 bin just put the opt(s_j+1,1)\n",
    "                #because only 1 bin so no need to look up table\n",
    "                    matrix[0][j] = sse \n",
    "                else:\n",
    "                #level 2+ bins need to look up table and update the min sse and its optopt(s_j+1, i-1)\n",
    "                    for k in range(len(s)-1,0,-1):\n",
    "                        #start select minimum sse + opt(s_j, b-1)\n",
    "                        sse = np.sum(np.array([(e-np.mean(np.array(s[:k])))**2 for e in s[:k]]))\n",
    "                        if  matrix[i-2][j+k] > 0:\n",
    "                            sse += matrix[i-2][j+k]\n",
    "                        if np.isnan(minSSE):\n",
    "                            minSSE = sse\n",
    "                        elif minSSE > sse :\n",
    "                            minSSE = sse\n",
    "                        if sse == minSSE:\n",
    "                        # update the minIndex if it is same as minSSE\n",
    "                            minIndex = j+k\n",
    "                    \n",
    "                    # note for each j, it needs to record the min s_j\n",
    "                    matrix[i-1][j] = minSSE\n",
    "                    path[i-1][j]=[j,minIndex]\n",
    "                    minSSE = np.NAN\n",
    "                    \n",
    "    pick = 0\n",
    "    for row in range(len(path)-1,0,-1):\n",
    "        b = path[row][pick][0]\n",
    "        pick = path[row][pick][1]\n",
    "        bins.append(x[b:pick])\n",
    "    bins.append(x[pick:])\n",
    "    return (matrix, bins)"
   ]
  },
  {
   "cell_type": "code",
   "execution_count": 4,
   "metadata": {
    "scrolled": false
   },
   "outputs": [
    {
     "name": "stdout",
     "output_type": "stream",
     "text": [
      "Bins = [[3, 1], [18], [11, 13], [17]]\n",
      "Matrix =\n",
      "[-1, -1, -1, 18.666666666666664, 8.0, 0.0]\n",
      "[-1, -1, 18.666666666666664, 2.0, 0.0, -1]\n",
      "[-1, 18.666666666666664, 2.0, 0.0, -1, -1]\n",
      "[4.0, 2.0, 0.0, -1, -1, -1]\n"
     ]
    }
   ],
   "source": [
    "## You can test your implementation using the following code...\n",
    "\n",
    "\n",
    "import submission as submission\n",
    "\n",
    "# matrix, bins = submission.v_opt_dp(x, num_bins)\n",
    "matrix, bins = v_opt_dp(x, num_bins)\n",
    "\n",
    "print(\"Bins = {}\".format(bins))\n",
    "print(\"Matrix =\")\n",
    "for row in matrix:\n",
    "    print(row)"
   ]
  }
 ],
 "metadata": {
  "kernelspec": {
   "display_name": "Python 3",
   "language": "python",
   "name": "python3"
  },
  "language_info": {
   "codemirror_mode": {
    "name": "ipython",
    "version": 3
   },
   "file_extension": ".py",
   "mimetype": "text/x-python",
   "name": "python",
   "nbconvert_exporter": "python",
   "pygments_lexer": "ipython3",
   "version": "3.7.1"
  }
 },
 "nbformat": 4,
 "nbformat_minor": 1
}
